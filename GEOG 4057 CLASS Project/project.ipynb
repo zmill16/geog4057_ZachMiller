{
 "cells": [
  {
   "cell_type": "code",
   "execution_count": null,
   "metadata": {},
   "outputs": [],
   "source": [
    "import json\n",
    "import arcpy\n",
    "import os\n"
   ]
  },
  {
   "cell_type": "code",
   "execution_count": null,
   "metadata": {},
   "outputs": [],
   "source": [
    "def importJSON(input='no_tax.json',output='notax_fc.shp'):\n",
    "        \"\"\"\n",
    "        Function to import JSON format data into shapefile\n",
    "        \"\"\"\n",
    "\n",
    "with open(input,'r') as file:\n",
    "        tax_json = json.load(file)"
   ]
  },
  {
   "cell_type": "code",
   "execution_count": null,
   "metadata": {},
   "outputs": [],
   "source": [
    "tax_json['meta']['view']['columns']\n",
    "fields[0]"
   ]
  },
  {
   "cell_type": "code",
   "execution_count": null,
   "metadata": {},
   "outputs": [],
   "source": [
    "fields = tax_json['meta']['view']['columns']\n",
    "for field in fields:\n",
    "    print(field['name'])"
   ]
  },
  {
   "cell_type": "code",
   "execution_count": null,
   "metadata": {},
   "outputs": [],
   "source": [
    "\n",
    "poly1 = arcpy.FromWKT(tax_json['data'][0][8])\n",
    "poly1"
   ]
  },
  {
   "cell_type": "code",
   "execution_count": null,
   "metadata": {},
   "outputs": [],
   "source": [
    "\n",
    "for row in tax_json['data']:\n",
    "    row[8] = arcpy.FromWKT(row[8])\n",
    "for row in tax_json['data']:\n",
    "    print(row)\n"
   ]
  },
  {
   "cell_type": "code",
   "execution_count": null,
   "metadata": {},
   "outputs": [],
   "source": [
    "\n",
    "fcname = output\n",
    "workspace = r'C:\\Users\\zmill16\\Downloads\\GEOG 4057 CLASS Project'\n",
    "fc_fullname = os.path.join(workspace,fcname)\n",
    "if arcpy.Exists(fc_fullname):\n",
    "    arcpy.management.Delete(fc_fullname)\n",
    "arcpy.management.CreateFeatureclass(out_path=workspace,out_name=fcname,geometry_type='POLYGON',spatial_reference=4236)\n",
    "desc = arcpy.da.Describe(fc_fullname)\n",
    "for field in desc['fields']:\n",
    "    print(field.name)"
   ]
  },
  {
   "cell_type": "code",
   "execution_count": null,
   "metadata": {},
   "outputs": [],
   "source": [
    "fields = tax_json['meta']['view']['columns']\n",
    "for field in fields:\n",
    "    print(field['name'])\n",
    "field_type = ['TEXT','TEXT','LONG','LONG','TEXT','LONG','TEXT','TEXT','TEXT','TEXT','TEXT','TEXT','TEXT']\n",
    "field_names = []\n",
    "for ind,field in enumerate(fields):\n",
    "    name = field['name']\n",
    "    if name == 'the_geom':\n",
    "        continue\n",
    "    if name.lower() == 'id':\n",
    "        name = f'id_{ind}'\n",
    "    max_len = min(10,len(name))\n",
    "    name = name[:max_len]\n",
    "    field_names.append(name)\n",
    "field_names = [field.replace(\" \",\"_\") for field in field_names]\n",
    "field_names = [field.replace(\".\",\"_\") for field in field_names]\n",
    "field_names\n"
   ]
  },
  {
   "cell_type": "code",
   "execution_count": null,
   "metadata": {},
   "outputs": [],
   "source": [
    "for ind,field_name in enumerate(field_names):\n",
    "    arcpy.management.AddField(fc_fullname,field_name=field_name,field_type=field_type[ind])"
   ]
  },
  {
   "cell_type": "code",
   "execution_count": null,
   "metadata": {},
   "outputs": [],
   "source": [
    "field_names.append('SHAPE@')"
   ]
  },
  {
   "cell_type": "code",
   "execution_count": null,
   "metadata": {},
   "outputs": [],
   "source": [
    "field_names"
   ]
  },
  {
   "cell_type": "code",
   "execution_count": null,
   "metadata": {},
   "outputs": [],
   "source": [
    "with arcpy.da.InsertCursor(fc_fullname,field_names=field_names) as cursor:\n",
    "        for row in tax_json['data']:\n",
    "            new_row = []\n",
    "            for ind, value in enumerate(row):\n",
    "                if ind == 8:\n",
    "                    continue\n",
    "                if value == None:\n",
    "                    value = \"\"\n",
    "                new_row.append(value)\n",
    "            new_row.append(row[8])\n",
    "            cursor.insertRow(new_row)\n",
    "    "
   ]
  },
  {
   "cell_type": "code",
   "execution_count": null,
   "metadata": {},
   "outputs": [],
   "source": [
    "def main():\n",
    "    importJSON()"
   ]
  },
  {
   "cell_type": "code",
   "execution_count": null,
   "metadata": {},
   "outputs": [],
   "source": [
    "if __name__ == '__main__':\n",
    "    main()\n",
    "    "
   ]
  }
 ],
 "metadata": {
  "kernelspec": {
   "display_name": "Python 3",
   "language": "python",
   "name": "python3"
  },
  "language_info": {
   "codemirror_mode": {
    "name": "ipython",
    "version": 3
   },
   "file_extension": ".py",
   "mimetype": "text/x-python",
   "name": "python",
   "nbconvert_exporter": "python",
   "pygments_lexer": "ipython3",
   "version": "3.11.8"
  }
 },
 "nbformat": 4,
 "nbformat_minor": 2
}
